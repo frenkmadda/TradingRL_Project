{
 "cells": [
  {
   "cell_type": "markdown",
   "id": "1682bc454001dccc",
   "metadata": {},
   "source": [
    "### Imports\n",
    "The *gym_anytrading* import is needed to create a gymnasium environment."
   ]
  },
  {
   "cell_type": "code",
   "id": "b544991baf63838",
   "metadata": {
    "ExecuteTime": {
     "end_time": "2025-02-06T12:18:32.035602Z",
     "start_time": "2025-02-06T12:18:32.023080Z"
    }
   },
   "source": [
    "import utils\n",
    "import crypto_env\n",
    "\n",
    "import gym_anytrading\n",
    "import gymnasium as gym\n",
    "import matplotlib.pyplot as plt\n",
    "import pandas as pd\n",
    "import quantstats as qs\n",
    "\n",
    "from stable_baselines3 import A2C, PPO"
   ],
   "outputs": [],
   "execution_count": 40
  },
  {
   "cell_type": "markdown",
   "id": "7cbfe5ac38310b4",
   "metadata": {},
   "source": "### Defining the DataFrame"
  },
  {
   "cell_type": "code",
   "id": "370ac09112ce8b82",
   "metadata": {
    "ExecuteTime": {
     "end_time": "2025-02-06T12:18:32.081737Z",
     "start_time": "2025-02-06T12:18:32.052320Z"
    }
   },
   "source": [
    "dataset_path = \"data/crypto/btc-usd.csv\"\n",
    "dataset_type = \"crypto-v0\"  # \"stocks-v0\", \"forex-v0\", \"crypto-v0\"\n",
    "\n",
    "df = pd.read_csv(\n",
    "    dataset_path,\n",
    "    header=0,\n",
    "    parse_dates=[\"Date\"],\n",
    "    index_col=\"Date\",\n",
    ")\n",
    "df.head()"
   ],
   "outputs": [
    {
     "data": {
      "text/plain": [
       "                 Close        High         Low        Open    Volume\n",
       "Date                                                                \n",
       "2014-09-17  457.334015  468.174011  452.421997  465.864014  21056800\n",
       "2014-09-18  424.440002  456.859985  413.104004  456.859985  34483200\n",
       "2014-09-19  394.795990  427.834991  384.532013  424.102997  37919700\n",
       "2014-09-20  408.903992  423.295990  389.882996  394.673004  36863600\n",
       "2014-09-21  398.821014  412.425995  393.181000  408.084991  26580100"
      ],
      "text/html": [
       "<div>\n",
       "<style scoped>\n",
       "    .dataframe tbody tr th:only-of-type {\n",
       "        vertical-align: middle;\n",
       "    }\n",
       "\n",
       "    .dataframe tbody tr th {\n",
       "        vertical-align: top;\n",
       "    }\n",
       "\n",
       "    .dataframe thead th {\n",
       "        text-align: right;\n",
       "    }\n",
       "</style>\n",
       "<table border=\"1\" class=\"dataframe\">\n",
       "  <thead>\n",
       "    <tr style=\"text-align: right;\">\n",
       "      <th></th>\n",
       "      <th>Close</th>\n",
       "      <th>High</th>\n",
       "      <th>Low</th>\n",
       "      <th>Open</th>\n",
       "      <th>Volume</th>\n",
       "    </tr>\n",
       "    <tr>\n",
       "      <th>Date</th>\n",
       "      <th></th>\n",
       "      <th></th>\n",
       "      <th></th>\n",
       "      <th></th>\n",
       "      <th></th>\n",
       "    </tr>\n",
       "  </thead>\n",
       "  <tbody>\n",
       "    <tr>\n",
       "      <th>2014-09-17</th>\n",
       "      <td>457.334015</td>\n",
       "      <td>468.174011</td>\n",
       "      <td>452.421997</td>\n",
       "      <td>465.864014</td>\n",
       "      <td>21056800</td>\n",
       "    </tr>\n",
       "    <tr>\n",
       "      <th>2014-09-18</th>\n",
       "      <td>424.440002</td>\n",
       "      <td>456.859985</td>\n",
       "      <td>413.104004</td>\n",
       "      <td>456.859985</td>\n",
       "      <td>34483200</td>\n",
       "    </tr>\n",
       "    <tr>\n",
       "      <th>2014-09-19</th>\n",
       "      <td>394.795990</td>\n",
       "      <td>427.834991</td>\n",
       "      <td>384.532013</td>\n",
       "      <td>424.102997</td>\n",
       "      <td>37919700</td>\n",
       "    </tr>\n",
       "    <tr>\n",
       "      <th>2014-09-20</th>\n",
       "      <td>408.903992</td>\n",
       "      <td>423.295990</td>\n",
       "      <td>389.882996</td>\n",
       "      <td>394.673004</td>\n",
       "      <td>36863600</td>\n",
       "    </tr>\n",
       "    <tr>\n",
       "      <th>2014-09-21</th>\n",
       "      <td>398.821014</td>\n",
       "      <td>412.425995</td>\n",
       "      <td>393.181000</td>\n",
       "      <td>408.084991</td>\n",
       "      <td>26580100</td>\n",
       "    </tr>\n",
       "  </tbody>\n",
       "</table>\n",
       "</div>"
      ]
     },
     "execution_count": 41,
     "metadata": {},
     "output_type": "execute_result"
    }
   ],
   "execution_count": 41
  },
  {
   "cell_type": "markdown",
   "id": "43ac726bbcbef2ba",
   "metadata": {},
   "source": "### Creating the environment"
  },
  {
   "cell_type": "code",
   "id": "7a691b2c258abbdf",
   "metadata": {
    "ExecuteTime": {
     "end_time": "2025-02-06T12:18:32.097854Z",
     "start_time": "2025-02-06T12:18:32.082740Z"
    }
   },
   "source": [
    "seed = 69  # Nice\n",
    "\n",
    "total_num_episodes = 50\n",
    "total_learning_timesteps = 1_000_000\n",
    "\n",
    "window_size = 15\n",
    "end_index = len(df)\n",
    "\n",
    "env = gym.make(\n",
    "    dataset_type,\n",
    "    df=df,\n",
    "    window_size=window_size,\n",
    "    frame_bound=(window_size, end_index),\n",
    ")\n",
    "\n",
    "# Matplotlib\n",
    "plot_settings = {}\n",
    "plot_data = {\"x\": [i for i in range(1, total_num_episodes + 1)]}"
   ],
   "outputs": [],
   "execution_count": 42
  },
  {
   "cell_type": "markdown",
   "id": "4faa1c96fa8438b7",
   "metadata": {},
   "source": [
    "### Training and testing the model\n",
    "\n",
    "1. With Advantage Actor-Critic algorithm\n",
    "2. With Proximal Policy Optimization algorithm\n",
    "3. With random actions"
   ]
  },
  {
   "cell_type": "code",
   "id": "b0ef1bfda1f1773c",
   "metadata": {
    "ExecuteTime": {
     "end_time": "2025-02-06T12:18:52.992151Z",
     "start_time": "2025-02-06T12:18:32.100326Z"
    }
   },
   "source": [
    "def train_and_get_rewards(model_name):\n",
    "    print(f\"Training {model_name} model…\")\n",
    "\n",
    "    if model_name == \"A2C\":\n",
    "        model = A2C(\"MlpPolicy\", env)\n",
    "    elif model_name == \"PPO\":\n",
    "        model = PPO(\"MlpPolicy\", env)\n",
    "    else:\n",
    "        model = None\n",
    "\n",
    "    rewards, info = utils.train_test_model(model, env, seed, total_learning_timesteps, total_num_episodes)\n",
    "    _, _, avg_res = utils.get_results(rewards, model_name, print_results=True)\n",
    "    \n",
    "    if model_name != \"random\":\n",
    "        print(f\"Total_Profit = {info[0]['total_profit']}\")\n",
    "    plot_data[f\"{model_name}_rewards\"] = rewards\n",
    "    plot_settings[f\"{model_name}_rewards\"] = {\"label\": model_name}\n",
    "\n",
    "\n",
    "train_and_get_rewards(\"random\")\n",
    "train_and_get_rewards(\"PPO\")\n",
    "train_and_get_rewards(\"A2C\")"
   ],
   "outputs": [
    {
     "name": "stdout",
     "output_type": "stream",
     "text": [
      "Training random model…\n"
     ]
    },
    {
     "name": "stderr",
     "output_type": "stream",
     "text": [
      "Episode: 0, Avg. Reward: 26908.468: 100%|██████████| 5/5 [00:00<00:00, 23.44it/s]\n"
     ]
    },
    {
     "name": "stdout",
     "output_type": "stream",
     "text": [
      "\n",
      "Results for random model:\n",
      "Minimum reward: 26908.468\n",
      "Maximum reward: 26908.468\n",
      "Average reward: 26908.468\n",
      "\n",
      "Training PPO model…\n"
     ]
    },
    {
     "name": "stderr",
     "output_type": "stream",
     "text": [
      "model.learn(): 2000it [00:02, 889.21it/s]                           \n",
      "Episode: 0, Avg. Reward: -4752.336: 100%|██████████| 5/5 [00:08<00:00,  1.71s/it]\n"
     ]
    },
    {
     "name": "stdout",
     "output_type": "stream",
     "text": [
      "\n",
      "Results for PPO model:\n",
      "Minimum reward: -29072.434\n",
      "Maximum reward: 46485.734\n",
      "Average reward: 12052.005\n",
      "\n",
      "Total_Profit = 0.26870432179338444\n",
      "Training A2C model…\n"
     ]
    },
    {
     "name": "stderr",
     "output_type": "stream",
     "text": [
      "model.learn(): 100%|██████████| 1000/1000 [00:01<00:00, 802.64it/s]\n",
      "Episode: 0, Avg. Reward: 84936.523: 100%|██████████| 5/5 [00:08<00:00,  1.72s/it]"
     ]
    },
    {
     "name": "stdout",
     "output_type": "stream",
     "text": [
      "\n",
      "Results for A2C model:\n",
      "Minimum reward: 40100.754\n",
      "Maximum reward: 193077.688\n",
      "Average reward: 84098.312\n",
      "\n",
      "Total_Profit = 0.3293297220698643\n"
     ]
    },
    {
     "name": "stderr",
     "output_type": "stream",
     "text": [
      "\n"
     ]
    }
   ],
   "execution_count": 43
  },
  {
   "cell_type": "markdown",
   "id": "a2967e3e9b0c8f34",
   "metadata": {},
   "source": "### Plotting the results"
  },
  {
   "cell_type": "code",
   "id": "4faec89d58f2c8",
   "metadata": {
    "ExecuteTime": {
     "end_time": "2025-02-06T12:18:53.194034Z",
     "start_time": "2025-02-06T12:18:52.994131Z"
    }
   },
   "source": [
    "data = pd.DataFrame(plot_data)\n",
    "plt.figure(figsize=(12, 6))\n",
    "for key in plot_data:\n",
    "    if key == \"x\":\n",
    "        continue\n",
    "    line = plt.plot(\"x\", key, data=data, linewidth=1, label=plot_settings[key][\"label\"])\n",
    "\n",
    "\n",
    "plt.xlabel(\"episode\")\n",
    "plt.ylabel(\"reward\")\n",
    "plt.title(\"Random vs Agents\")\n",
    "plt.legend()\n",
    "plt.show()"
   ],
   "outputs": [
    {
     "data": {
      "text/plain": [
       "<Figure size 1200x600 with 1 Axes>"
      ],
      "image/png": "[encoded data removed]"
     },
     "metadata": {},
     "output_type": "display_data"
    }
   ],
   "execution_count": 44
  }
 ],
 "metadata": {
  "kernelspec": {
   "display_name": "Python 3",
   "language": "python",
   "name": "python3"
  },
  "language_info": {
   "codemirror_mode": {
    "name": "ipython",
    "version": 2
   },
   "file_extension": ".py",
   "mimetype": "text/x-python",
   "name": "python",
   "nbconvert_exporter": "python",
   "pygments_lexer": "ipython2",
   "version": "2.7.6"
  }
 },
 "nbformat": 4,
 "nbformat_minor": 5
}
