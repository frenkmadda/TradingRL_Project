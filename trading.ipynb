{
 "cells": [
  {
   "cell_type": "markdown",
   "id": "1682bc454001dccc",
   "metadata": {},
   "source": [
    "### Imports\n",
    "The *gym_anytrading* import is needed to create a gymnasium environment."
   ]
  },
  {
   "cell_type": "code",
   "id": "b544991baf63838",
   "metadata": {},
   "source": [
    "import utils\n",
    "import crypto_env\n",
    "\n",
    "import gym_anytrading\n",
    "import gymnasium as gym\n",
    "import matplotlib.pyplot as plt\n",
    "import pandas as pd\n",
    "import quantstats as qs\n",
    "\n",
    "from stable_baselines3 import A2C, PPO, DQN "
   ],
   "outputs": [],
   "execution_count": null
  },
  {
   "cell_type": "markdown",
   "id": "7cbfe5ac38310b4",
   "metadata": {},
   "source": "### Defining the DataFrame"
  },
  {
   "cell_type": "code",
   "id": "370ac09112ce8b82",
   "metadata": {},
   "source": [
    "dataset_path = \"data/crypto/btc-usd.csv\"\n",
    "dataset_type = \"crypto-v0\"  # \"stocks-v0\", \"forex-v0\", \"crypto-v0\"\n",
    "\n",
    "df = pd.read_csv(\n",
    "    dataset_path,\n",
    "    header=0,\n",
    "    parse_dates=[\"Date\"],\n",
    "    index_col=\"Date\",\n",
    ")\n",
    "df.head()"
   ],
   "outputs": [],
   "execution_count": null
  },
  {
   "cell_type": "markdown",
   "id": "43ac726bbcbef2ba",
   "metadata": {},
   "source": "### Creating the environment"
  },
  {
   "cell_type": "code",
   "id": "7a691b2c258abbdf",
   "metadata": {},
   "source": [
    "seed = 69  # Nice\n",
    "\n",
    "total_num_episodes = 50\n",
    "total_learning_timesteps = 1_000_000\n",
    "\n",
    "window_size = 15\n",
    "end_index = len(df)\n",
    "\n",
    "env = gym.make(\n",
    "    dataset_type,\n",
    "    df=df,\n",
    "    window_size=window_size,\n",
    "    frame_bound=(window_size, end_index),\n",
    ")\n",
    "\n",
    "# Matplotlib\n",
    "plot_settings = {}\n",
    "plot_data = {\"x\": [i for i in range(1, total_num_episodes + 1)]}"
   ],
   "outputs": [],
   "execution_count": null
  },
  {
   "cell_type": "markdown",
   "id": "4faa1c96fa8438b7",
   "metadata": {},
   "source": [
    "### Training and testing the model\n",
    "\n",
    "1. With Advantage Actor-Critic algorithm\n",
    "2. With Proximal Policy Optimization algorithm\n",
    "3. With random actions"
   ]
  },
  {
   "cell_type": "code",
   "id": "b0ef1bfda1f1773c",
   "metadata": {},
   "source": [
    "def train_and_get_rewards(model_name):\n",
    "    print(f\"Training {model_name} model…\")\n",
    "\n",
    "    if model_name == \"A2C\":\n",
    "        model = A2C(\"MlpPolicy\", env)\n",
    "    elif model_name == \"PPO\":\n",
    "        model = PPO(\"MlpPolicy\", env)\n",
    "    elif model_name == \"DQN\":\n",
    "        model = DQN(\"MlpPolicy\", env)\n",
    "    else:\n",
    "        model = None\n",
    "\n",
    "    rewards, info = utils.train_test_model(model, env, seed, total_learning_timesteps, total_num_episodes)\n",
    "    _, _, avg_res = utils.get_results(rewards, model_name, print_results=True)\n",
    "    \n",
    "   \n",
    "    print(f\"Total_Profit = {info[0]['total_profit']:.8f}\")\n",
    "        \n",
    "    plot_data[f\"{model_name}_rewards\"] = rewards\n",
    "    plot_settings[f\"{model_name}_rewards\"] = {\"label\": model_name}\n",
    "    \n",
    "    money_spent = env.unwrapped.get_money_spent()\n",
    "    print(f\"Total Money Spent = {money_spent:.2f}\")\n",
    "    \n",
    "    money_left = money_spent * info[0]['total_profit']\n",
    "    total_money_earned = (money_spent * info[0]['total_profit']) - money_spent\n",
    "    \n",
    "    roi = total_money_earned * 100 / money_spent\n",
    "    \n",
    "    print(f\"ROI = {roi:.2f}%\")\n",
    "    print(f\"Money Left = {money_left:.2f}\")\n",
    "\n",
    "#train_and_get_rewards(\"DQN\")\n",
    "train_and_get_rewards(\"PPO\")\n",
    "#train_and_get_rewards(\"A2C\")"
   ],
   "outputs": [],
   "execution_count": null
  },
  {
   "cell_type": "markdown",
   "id": "a2967e3e9b0c8f34",
   "metadata": {},
   "source": "### Plotting the results"
  },
  {
   "cell_type": "code",
   "id": "4faec89d58f2c8",
   "metadata": {},
   "source": [
    "data = pd.DataFrame(plot_data)\n",
    "plt.figure(figsize=(12, 6))\n",
    "for key in plot_data:\n",
    "    if key == \"x\":\n",
    "        continue\n",
    "    line = plt.plot(\"x\", key, data=data, linewidth=1, label=plot_settings[key][\"label\"])\n",
    "\n",
    "\n",
    "plt.xlabel(\"episode\")\n",
    "plt.ylabel(\"reward\")\n",
    "plt.title(\"Random vs Agents\")\n",
    "plt.legend()\n",
    "plt.show()"
   ],
   "outputs": [],
   "execution_count": null
  }
 ],
 "metadata": {
  "kernelspec": {
   "display_name": "Python 3",
   "language": "python",
   "name": "python3"
  },
  "language_info": {
   "codemirror_mode": {
    "name": "ipython",
    "version": 2
   },
   "file_extension": ".py",
   "mimetype": "text/x-python",
   "name": "python",
   "nbconvert_exporter": "python",
   "pygments_lexer": "ipython2",
   "version": "2.7.6"
  }
 },
 "nbformat": 4,
 "nbformat_minor": 5
}
